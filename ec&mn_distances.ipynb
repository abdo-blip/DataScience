{
 "cells": [
  {
   "cell_type": "code",
   "execution_count": 1,
   "id": "53a56105",
   "metadata": {},
   "outputs": [],
   "source": [
    "import numpy as np"
   ]
  },
  {
   "cell_type": "code",
   "execution_count": 2,
   "id": "b8f3f381",
   "metadata": {},
   "outputs": [],
   "source": [
    "p1 = (1, 1)\n",
    "\n",
    "p2 = (2, 2)"
   ]
  },
  {
   "cell_type": "code",
   "execution_count": 4,
   "id": "2a1a9cac",
   "metadata": {},
   "outputs": [
    {
     "name": "stdout",
     "output_type": "stream",
     "text": [
      "1.4142135623730951\n"
     ]
    }
   ],
   "source": [
    "#euclidean distance\n",
    "dist = (p2[0] - p1[0])**2 + (p2[1] - p1[1])**2\n",
    "\n",
    "euclidean_dist = np.sqrt(dist)\n",
    "print(euclidean_dist)"
   ]
  },
  {
   "cell_type": "code",
   "execution_count": 6,
   "id": "8ecb3a63",
   "metadata": {},
   "outputs": [
    {
     "name": "stdout",
     "output_type": "stream",
     "text": [
      "1.7320508075688772\n"
     ]
    }
   ],
   "source": [
    "p1 = (1, 1, 1)\n",
    "\n",
    "p2 = (2, 2, 2)\n",
    "\n",
    "#euclidean distance\n",
    "dist = (p2[0] - p1[0])**2 + (p2[1] - p1[1])**2 + (p2[2] - p1[2]) **2\n",
    "\n",
    "euclidean_dist = np.sqrt(dist)\n",
    "print(euclidean_dist)"
   ]
  },
  {
   "cell_type": "code",
   "execution_count": 7,
   "id": "2d2013ee",
   "metadata": {},
   "outputs": [
    {
     "name": "stdout",
     "output_type": "stream",
     "text": [
      "2.0\n"
     ]
    }
   ],
   "source": [
    "p1 = (1, 1, 1, 1)\n",
    "\n",
    "p2 = (2, 2, 2, 2)\n",
    "\n",
    "dist = 0\n",
    "\n",
    "for i in range(len(p1)) : \n",
    "    \n",
    "    dist = dist + ((p1[i] - p2[i]) **2)\n",
    "    \n",
    "euclidean_dist = np.sqrt(dist)\n",
    "print(euclidean_dist)\n"
   ]
  },
  {
   "cell_type": "code",
   "execution_count": 9,
   "id": "908e7482",
   "metadata": {},
   "outputs": [],
   "source": [
    "def euclidean_distance(p1, p2) :\n",
    "    \n",
    "    dist = 0\n",
    "\n",
    "    for i in range(len(p1)) : \n",
    "        \n",
    "        dist = dist + ((p1[i] - p2[i]) **2)\n",
    "        \n",
    "    euclidean_dist = np.sqrt(dist)\n",
    "    print(euclidean_dist)\n"
   ]
  },
  {
   "cell_type": "code",
   "execution_count": 13,
   "id": "2bd6823b",
   "metadata": {},
   "outputs": [
    {
     "name": "stdout",
     "output_type": "stream",
     "text": [
      "2.0\n"
     ]
    }
   ],
   "source": [
    "euclidean_distance((1, 1, 1, 1), (2, 2, 2, 2))"
   ]
  },
  {
   "cell_type": "code",
   "execution_count": 14,
   "id": "57b73e56",
   "metadata": {},
   "outputs": [
    {
     "name": "stdout",
     "output_type": "stream",
     "text": [
      "2\n"
     ]
    }
   ],
   "source": [
    "#manhattan distance\n",
    "\n",
    "p1 = (1, 1)\n",
    "\n",
    "p2 = (2, 2)\n",
    "\n",
    "manhattan_dist = np.abs(p1[0] - p2[0]) + np.abs(p1[1] - p2[1])\n",
    "print(manhattan_dist)"
   ]
  },
  {
   "cell_type": "code",
   "execution_count": 23,
   "id": "1a01a1e7",
   "metadata": {},
   "outputs": [],
   "source": [
    "def calculate_manhattan_distance(p1, p2):\n",
    "    \n",
    "    distance = 0\n",
    "    \n",
    "    for i in range(len(p1)):\n",
    "        \n",
    "        distance = distance + abs(p1[i] - p2[i])\n",
    "        \n",
    "    manhattan_distance = distance\n",
    "    print(manhattan_distance)"
   ]
  },
  {
   "cell_type": "code",
   "execution_count": 24,
   "id": "d6509968",
   "metadata": {},
   "outputs": [
    {
     "name": "stdout",
     "output_type": "stream",
     "text": [
      "2\n"
     ]
    }
   ],
   "source": [
    "calculate_manhattan_distance((1, 1), (2, 2))"
   ]
  },
  {
   "cell_type": "code",
   "execution_count": 26,
   "id": "338b3312",
   "metadata": {},
   "outputs": [
    {
     "name": "stdout",
     "output_type": "stream",
     "text": [
      "100.2\n",
      "50.640300157088326\n"
     ]
    }
   ],
   "source": [
    "calculate_manhattan_distance((63, 1, 3, 145, 233, 1, 0, 150, 0, 2.3, 0, 0, 1), (37, 1, 2, 130, 250, 0, 1, 187, 0, 3.5, 0, 0, 2))\n",
    "euclidean_distance((63, 1, 3, 145, 233, 1, 0, 150, 0, 2.3, 0, 0, 1), (37, 1, 2, 130, 250, 0, 1, 187, 0, 3.5, 0, 0, 2))"
   ]
  },
  {
   "cell_type": "code",
   "execution_count": null,
   "id": "e5fe6efd",
   "metadata": {},
   "outputs": [],
   "source": []
  }
 ],
 "metadata": {
  "kernelspec": {
   "display_name": "base",
   "language": "python",
   "name": "python3"
  },
  "language_info": {
   "codemirror_mode": {
    "name": "ipython",
    "version": 3
   },
   "file_extension": ".py",
   "mimetype": "text/x-python",
   "name": "python",
   "nbconvert_exporter": "python",
   "pygments_lexer": "ipython3",
   "version": "3.12.7"
  }
 },
 "nbformat": 4,
 "nbformat_minor": 5
}
